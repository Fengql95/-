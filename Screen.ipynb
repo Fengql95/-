{
 "cells": [
  {
   "cell_type": "code",
   "execution_count": null,
   "metadata": {},
   "outputs": [
    {
     "name": "stdout",
     "output_type": "stream",
     "text": [
      "1\n"
     ]
    }
   ],
   "source": [
    "from PIL import ImageGrab\n",
    "import time\n",
    " \n",
    "count = 0 \n",
    "while True:\n",
    "    count += 1\n",
    "    pic = ImageGrab.grab()\n",
    "    name = time.strftime(\"%Y-%m-%d---%H:%M:%S\", time.localtime()).replace(\":\", \"-\")\n",
    "    pic.save('D:\\每日截屏\\%s.jpg' %  name)\n",
    "    print(count)\n",
    "    time.sleep(600)"
   ]
  },
  {
   "cell_type": "code",
   "execution_count": null,
   "metadata": {},
   "outputs": [],
   "source": []
  }
 ],
 "metadata": {
  "kernelspec": {
   "display_name": "Python 3",
   "language": "python",
   "name": "python3"
  },
  "language_info": {
   "codemirror_mode": {
    "name": "ipython",
    "version": 3
   },
   "file_extension": ".py",
   "mimetype": "text/x-python",
   "name": "python",
   "nbconvert_exporter": "python",
   "pygments_lexer": "ipython3",
   "version": "3.6.3"
  }
 },
 "nbformat": 4,
 "nbformat_minor": 2
}
