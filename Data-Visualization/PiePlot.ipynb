{
 "cells": [
  {
   "cell_type": "markdown",
   "metadata": {},
   "source": [
    "#  饼图"
   ]
  },
  {
   "cell_type": "code",
   "execution_count": 2,
   "metadata": {
    "ExecuteTime": {
     "end_time": "2019-09-14T15:39:11.406378Z",
     "start_time": "2019-09-14T15:39:11.376777Z"
    }
   },
   "outputs": [],
   "source": [
    "# 导入包\n",
    "import numpy as np\n",
    "import matplotlib.pyplot as plt\n",
    "import seaborn as sns\n",
    "import pandas as pd\n",
    "%matplotlib inline\n",
    "%config InlineBackend.figure_format = 'svg'"
   ]
  },
  {
   "cell_type": "code",
   "execution_count": 3,
   "metadata": {
    "ExecuteTime": {
     "end_time": "2019-09-14T15:39:12.025008Z",
     "start_time": "2019-09-14T15:39:12.009408Z"
    }
   },
   "outputs": [],
   "source": [
    "# 准备数据\n",
    "x = ['A', 'B', 'C', 'D']\n",
    "y = [30,32,64,73]"
   ]
  },
  {
   "cell_type": "code",
   "execution_count": 4,
   "metadata": {
    "ExecuteTime": {
     "end_time": "2019-09-14T15:39:12.800647Z",
     "start_time": "2019-09-14T15:39:12.630840Z"
    }
   },
   "outputs": [
    {
     "data": {
      "image/svg+xml": [
       "<?xml version=\"1.0\" encoding=\"utf-8\" standalone=\"no\"?>\r\n",
       "<!DOCTYPE svg PUBLIC \"-//W3C//DTD SVG 1.1//EN\"\r\n",
       "  \"http://www.w3.org/Graphics/SVG/1.1/DTD/svg11.dtd\">\r\n",
       "<!-- Created with matplotlib (https://matplotlib.org/) -->\r\n",
       "<svg height=\"231.84pt\" version=\"1.1\" viewBox=\"0 0 231.84 231.84\" width=\"231.84pt\" xmlns=\"http://www.w3.org/2000/svg\" xmlns:xlink=\"http://www.w3.org/1999/xlink\">\r\n",
       " <defs>\r\n",
       "  <style type=\"text/css\">\r\n",
       "*{stroke-linecap:butt;stroke-linejoin:round;}\r\n",
       "  </style>\r\n",
       " </defs>\r\n",
       " <g id=\"figure_1\">\r\n",
       "  <g id=\"patch_1\">\r\n",
       "   <path d=\"M 0 231.84 \r\n",
       "L 231.84 231.84 \r\n",
       "L 231.84 0 \r\n",
       "L 0 0 \r\n",
       "z\r\n",
       "\" style=\"fill:none;\"/>\r\n",
       "  </g>\r\n",
       "  <g id=\"axes_1\">\r\n",
       "   <g id=\"patch_2\">\r\n",
       "    <path d=\"M 202.896 115.92 \r\n",
       "C 202.896 102.125348 199.614191 88.526581 193.322462 76.25032 \r\n",
       "C 187.030733 63.97406 177.907769 53.368953 166.709385 45.313606 \r\n",
       "L 115.92 115.92 \r\n",
       "L 202.896 115.92 \r\n",
       "z\r\n",
       "\" style=\"fill:#1f77b4;\"/>\r\n",
       "   </g>\r\n",
       "   <g id=\"patch_3\">\r\n",
       "    <path d=\"M 166.709385 45.313606 \r\n",
       "C 154.756871 36.715789 140.814604 31.292178 126.194066 29.552945 \r\n",
       "C 111.573529 27.813713 96.74799 29.815159 83.112019 35.369016 \r\n",
       "L 115.92 115.92 \r\n",
       "L 166.709385 45.313606 \r\n",
       "z\r\n",
       "\" style=\"fill:#ff7f0e;\"/>\r\n",
       "   </g>\r\n",
       "   <g id=\"patch_4\">\r\n",
       "    <path d=\"M 83.112019 35.369016 \r\n",
       "C 69.476048 40.922874 57.471042 49.849364 48.226257 61.308813 \r\n",
       "C 38.981471 72.768263 32.796161 86.389728 30.252148 100.891902 \r\n",
       "C 27.708136 115.394076 28.887771 130.307521 33.680092 144.2294 \r\n",
       "C 38.472413 158.151278 46.722291 170.630937 57.653699 180.494474 \r\n",
       "L 115.92 115.92 \r\n",
       "L 83.112019 35.369016 \r\n",
       "z\r\n",
       "\" style=\"fill:#2ca02c;\"/>\r\n",
       "   </g>\r\n",
       "   <g id=\"patch_5\">\r\n",
       "    <path d=\"M 57.653699 180.494474 \r\n",
       "C 70.141918 191.76274 85.634811 199.169993 102.246146 201.814414 \r\n",
       "C 118.857481 204.458834 135.884608 202.228565 151.254503 195.395137 \r\n",
       "C 166.624398 188.56171 179.686924 177.414173 188.851741 163.309722 \r\n",
       "C 198.016558 149.20527 202.895998 132.740514 202.896 115.920008 \r\n",
       "L 115.92 115.92 \r\n",
       "L 57.653699 180.494474 \r\n",
       "z\r\n",
       "\" style=\"fill:#d62728;\"/>\r\n",
       "   </g>\r\n",
       "   <g id=\"matplotlib.axis_1\"/>\r\n",
       "   <g id=\"matplotlib.axis_2\"/>\r\n",
       "   <g id=\"text_1\">\r\n",
       "    <!-- A -->\r\n",
       "    <defs>\r\n",
       "     <path d=\"M 34.1875 63.1875 \r\n",
       "L 20.796875 26.90625 \r\n",
       "L 47.609375 26.90625 \r\n",
       "z\r\n",
       "M 28.609375 72.90625 \r\n",
       "L 39.796875 72.90625 \r\n",
       "L 67.578125 0 \r\n",
       "L 57.328125 0 \r\n",
       "L 50.6875 18.703125 \r\n",
       "L 17.828125 18.703125 \r\n",
       "L 11.1875 0 \r\n",
       "L 0.78125 0 \r\n",
       "z\r\n",
       "\" id=\"DejaVuSans-65\"/>\r\n",
       "    </defs>\r\n",
       "    <g transform=\"translate(201.062708 75.042727)scale(0.1 -0.1)\">\r\n",
       "     <use xlink:href=\"#DejaVuSans-65\"/>\r\n",
       "    </g>\r\n",
       "   </g>\r\n",
       "   <g id=\"text_2\">\r\n",
       "    <!-- B -->\r\n",
       "    <defs>\r\n",
       "     <path d=\"M 19.671875 34.8125 \r\n",
       "L 19.671875 8.109375 \r\n",
       "L 35.5 8.109375 \r\n",
       "Q 43.453125 8.109375 47.28125 11.40625 \r\n",
       "Q 51.125 14.703125 51.125 21.484375 \r\n",
       "Q 51.125 28.328125 47.28125 31.5625 \r\n",
       "Q 43.453125 34.8125 35.5 34.8125 \r\n",
       "z\r\n",
       "M 19.671875 64.796875 \r\n",
       "L 19.671875 42.828125 \r\n",
       "L 34.28125 42.828125 \r\n",
       "Q 41.5 42.828125 45.03125 45.53125 \r\n",
       "Q 48.578125 48.25 48.578125 53.8125 \r\n",
       "Q 48.578125 59.328125 45.03125 62.0625 \r\n",
       "Q 41.5 64.796875 34.28125 64.796875 \r\n",
       "z\r\n",
       "M 9.8125 72.90625 \r\n",
       "L 35.015625 72.90625 \r\n",
       "Q 46.296875 72.90625 52.390625 68.21875 \r\n",
       "Q 58.5 63.53125 58.5 54.890625 \r\n",
       "Q 58.5 48.1875 55.375 44.234375 \r\n",
       "Q 52.25 40.28125 46.1875 39.3125 \r\n",
       "Q 53.46875 37.75 57.5 32.78125 \r\n",
       "Q 61.53125 27.828125 61.53125 20.40625 \r\n",
       "Q 61.53125 10.640625 54.890625 5.3125 \r\n",
       "Q 48.25 0 35.984375 0 \r\n",
       "L 9.8125 0 \r\n",
       "z\r\n",
       "\" id=\"DejaVuSans-66\"/>\r\n",
       "    </defs>\r\n",
       "    <g transform=\"translate(127.221473 23.675615)scale(0.1 -0.1)\">\r\n",
       "     <use xlink:href=\"#DejaVuSans-66\"/>\r\n",
       "    </g>\r\n",
       "   </g>\r\n",
       "   <g id=\"text_3\">\r\n",
       "    <!-- C -->\r\n",
       "    <defs>\r\n",
       "     <path d=\"M 64.40625 67.28125 \r\n",
       "L 64.40625 56.890625 \r\n",
       "Q 59.421875 61.53125 53.78125 63.8125 \r\n",
       "Q 48.140625 66.109375 41.796875 66.109375 \r\n",
       "Q 29.296875 66.109375 22.65625 58.46875 \r\n",
       "Q 16.015625 50.828125 16.015625 36.375 \r\n",
       "Q 16.015625 21.96875 22.65625 14.328125 \r\n",
       "Q 29.296875 6.6875 41.796875 6.6875 \r\n",
       "Q 48.140625 6.6875 53.78125 8.984375 \r\n",
       "Q 59.421875 11.28125 64.40625 15.921875 \r\n",
       "L 64.40625 5.609375 \r\n",
       "Q 59.234375 2.09375 53.4375 0.328125 \r\n",
       "Q 47.65625 -1.421875 41.21875 -1.421875 \r\n",
       "Q 24.65625 -1.421875 15.125 8.703125 \r\n",
       "Q 5.609375 18.84375 5.609375 36.375 \r\n",
       "Q 5.609375 53.953125 15.125 64.078125 \r\n",
       "Q 24.65625 74.21875 41.21875 74.21875 \r\n",
       "Q 47.75 74.21875 53.53125 72.484375 \r\n",
       "Q 59.328125 70.75 64.40625 67.28125 \r\n",
       "z\r\n",
       "\" id=\"DejaVuSans-67\"/>\r\n",
       "    </defs>\r\n",
       "    <g transform=\"translate(14.70255 102.148467)scale(0.1 -0.1)\">\r\n",
       "     <use xlink:href=\"#DejaVuSans-67\"/>\r\n",
       "    </g>\r\n",
       "   </g>\r\n",
       "   <g id=\"text_4\">\r\n",
       "    <!-- D -->\r\n",
       "    <defs>\r\n",
       "     <path d=\"M 19.671875 64.796875 \r\n",
       "L 19.671875 8.109375 \r\n",
       "L 31.59375 8.109375 \r\n",
       "Q 46.6875 8.109375 53.6875 14.9375 \r\n",
       "Q 60.6875 21.78125 60.6875 36.53125 \r\n",
       "Q 60.6875 51.171875 53.6875 57.984375 \r\n",
       "Q 46.6875 64.796875 31.59375 64.796875 \r\n",
       "z\r\n",
       "M 9.8125 72.90625 \r\n",
       "L 30.078125 72.90625 \r\n",
       "Q 51.265625 72.90625 61.171875 64.09375 \r\n",
       "Q 71.09375 55.28125 71.09375 36.53125 \r\n",
       "Q 71.09375 17.671875 61.125 8.828125 \r\n",
       "Q 51.171875 0 30.078125 0 \r\n",
       "L 9.8125 0 \r\n",
       "z\r\n",
       "\" id=\"DejaVuSans-68\"/>\r\n",
       "    </defs>\r\n",
       "    <g transform=\"translate(154.787954 206.102026)scale(0.1 -0.1)\">\r\n",
       "     <use xlink:href=\"#DejaVuSans-68\"/>\r\n",
       "    </g>\r\n",
       "   </g>\r\n",
       "  </g>\r\n",
       " </g>\r\n",
       "</svg>\r\n"
      ],
      "text/plain": [
       "<Figure size 432x288 with 1 Axes>"
      ]
     },
     "metadata": {},
     "output_type": "display_data"
    }
   ],
   "source": [
    "# matplotlib\n",
    "plt.pie(y,labels=x)\n",
    "plt.show()"
   ]
  },
  {
   "cell_type": "code",
   "execution_count": null,
   "metadata": {},
   "outputs": [],
   "source": []
  }
 ],
 "metadata": {
  "kernelspec": {
   "display_name": "Python 3",
   "language": "python",
   "name": "python3"
  },
  "language_info": {
   "codemirror_mode": {
    "name": "ipython",
    "version": 3
   },
   "file_extension": ".py",
   "mimetype": "text/x-python",
   "name": "python",
   "nbconvert_exporter": "python",
   "pygments_lexer": "ipython3",
   "version": "3.6.3"
  },
  "toc": {
   "base_numbering": 1,
   "nav_menu": {},
   "number_sections": true,
   "sideBar": true,
   "skip_h1_title": false,
   "title_cell": "Table of Contents",
   "title_sidebar": "Contents",
   "toc_cell": false,
   "toc_position": {},
   "toc_section_display": true,
   "toc_window_display": false
  },
  "varInspector": {
   "cols": {
    "lenName": 16,
    "lenType": 16,
    "lenVar": 40
   },
   "kernels_config": {
    "python": {
     "delete_cmd_postfix": "",
     "delete_cmd_prefix": "del ",
     "library": "var_list.py",
     "varRefreshCmd": "print(var_dic_list())"
    },
    "r": {
     "delete_cmd_postfix": ") ",
     "delete_cmd_prefix": "rm(",
     "library": "var_list.r",
     "varRefreshCmd": "cat(var_dic_list()) "
    }
   },
   "types_to_exclude": [
    "module",
    "function",
    "builtin_function_or_method",
    "instance",
    "_Feature"
   ],
   "window_display": false
  }
 },
 "nbformat": 4,
 "nbformat_minor": 2
}
