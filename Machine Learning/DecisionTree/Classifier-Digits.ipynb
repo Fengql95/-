{
 "cells": [
  {
   "cell_type": "code",
   "execution_count": 2,
   "metadata": {
    "ExecuteTime": {
     "end_time": "2019-09-16T07:38:50.514154Z",
     "start_time": "2019-09-16T07:38:50.498153Z"
    }
   },
   "outputs": [],
   "source": [
    "%config IPCompleter.greedy=True"
   ]
  },
  {
   "cell_type": "markdown",
   "metadata": {
    "ExecuteTime": {
     "end_time": "2019-09-16T07:37:10.601372Z",
     "start_time": "2019-09-16T07:37:10.594372Z"
    }
   },
   "source": [
    "# 利用CART算法创建Digits数据集分类决策树"
   ]
  },
  {
   "cell_type": "code",
   "execution_count": 3,
   "metadata": {
    "ExecuteTime": {
     "end_time": "2019-09-16T07:53:41.868100Z",
     "start_time": "2019-09-16T07:53:41.852500Z"
    }
   },
   "outputs": [],
   "source": [
    "# 导入包\n",
    "from sklearn.tree import DecisionTreeClassifier\n",
    "from sklearn.model_selection import train_test_split\n",
    "from sklearn.datasets import load_digits\n",
    "from sklearn.metrics import accuracy_score"
   ]
  },
  {
   "cell_type": "code",
   "execution_count": 4,
   "metadata": {
    "ExecuteTime": {
     "end_time": "2019-09-16T07:53:42.592538Z",
     "start_time": "2019-09-16T07:53:42.445530Z"
    }
   },
   "outputs": [],
   "source": [
    "#准备数据集\n",
    "digits = load_digits()"
   ]
  },
  {
   "cell_type": "code",
   "execution_count": 5,
   "metadata": {
    "ExecuteTime": {
     "end_time": "2019-09-16T07:53:43.816203Z",
     "start_time": "2019-09-16T07:53:43.785003Z"
    }
   },
   "outputs": [],
   "source": [
    "# 获取特征集和分类标识\n",
    "features = digits.data\n",
    "labels = digits.target"
   ]
  },
  {
   "cell_type": "code",
   "execution_count": 6,
   "metadata": {
    "ExecuteTime": {
     "end_time": "2019-09-16T07:53:44.316232Z",
     "start_time": "2019-09-16T07:53:44.279229Z"
    }
   },
   "outputs": [],
   "source": [
    "# 随机将33%的数据集分类为测试集，其余为训练集\n",
    "train_features, test_features, train_label, test_label = train_test_split(features, labels, test_size=0.33, random_state=0)"
   ]
  },
  {
   "cell_type": "code",
   "execution_count": 7,
   "metadata": {
    "ExecuteTime": {
     "end_time": "2019-09-16T07:53:44.872660Z",
     "start_time": "2019-09-16T07:53:44.857060Z"
    }
   },
   "outputs": [],
   "source": [
    "#构造CART分类树\n",
    "clf = DecisionTreeClassifier(criterion='gini')"
   ]
  },
  {
   "cell_type": "code",
   "execution_count": 8,
   "metadata": {
    "ExecuteTime": {
     "end_time": "2019-09-16T07:53:45.612698Z",
     "start_time": "2019-09-16T07:53:45.576696Z"
    }
   },
   "outputs": [
    {
     "data": {
      "text/plain": [
       "DecisionTreeClassifier(class_weight=None, criterion='gini', max_depth=None,\n",
       "                       max_features=None, max_leaf_nodes=None,\n",
       "                       min_impurity_decrease=0.0, min_impurity_split=None,\n",
       "                       min_samples_leaf=1, min_samples_split=2,\n",
       "                       min_weight_fraction_leaf=0.0, presort=False,\n",
       "                       random_state=None, splitter='best')"
      ]
     },
     "execution_count": 8,
     "metadata": {},
     "output_type": "execute_result"
    }
   ],
   "source": [
    "#拟合CART分类树\n",
    "clf.fit(train_features,train_label)"
   ]
  },
  {
   "cell_type": "code",
   "execution_count": 9,
   "metadata": {
    "ExecuteTime": {
     "end_time": "2019-09-16T07:53:46.130926Z",
     "start_time": "2019-09-16T07:53:46.115326Z"
    }
   },
   "outputs": [],
   "source": [
    "#预测\n",
    "predict_label = clf.predict(test_features)"
   ]
  },
  {
   "cell_type": "code",
   "execution_count": 10,
   "metadata": {
    "ExecuteTime": {
     "end_time": "2019-09-16T07:53:47.481598Z",
     "start_time": "2019-09-16T07:53:47.465998Z"
    }
   },
   "outputs": [],
   "source": [
    "# 预测结果与测试集对比\n",
    "score = accuracy_score(predict_label, test_label)"
   ]
  },
  {
   "cell_type": "code",
   "execution_count": 11,
   "metadata": {
    "ExecuteTime": {
     "end_time": "2019-09-16T07:53:48.386844Z",
     "start_time": "2019-09-16T07:53:48.355644Z"
    }
   },
   "outputs": [
    {
     "data": {
      "text/plain": [
       "0.8585858585858586"
      ]
     },
     "execution_count": 11,
     "metadata": {},
     "output_type": "execute_result"
    }
   ],
   "source": [
    "score"
   ]
  },
  {
   "cell_type": "code",
   "execution_count": 16,
   "metadata": {
    "ExecuteTime": {
     "end_time": "2019-09-16T07:59:40.235752Z",
     "start_time": "2019-09-16T07:59:40.220152Z"
    }
   },
   "outputs": [
    {
     "name": "stdout",
     "output_type": "stream",
     "text": [
      "%SystemRoot%\\system32\\WindowsPowerShell\\v1.0\\;F:\\Python;F:\\Python\\pycharm\\PyCharm Edu 2017.3\\bin;F:\\Python\\pycharm\\bin;C:\\Users\\Administrator;F:\\Python\\Scripts;F:\\Anaconda\\Anaconda3;F:\\Anaconda\\Anaconda3\\Scripts;;F:\\Python\\pycharm\\bin;F:\\Python;f:\\python\\lib\\site-packages\\pywin32_system32;f:\\python\\lib\\site-packages\\pywin32_system32;f:\\python\\lib\\site-packages\\pywin32_system32;f:\\python\\lib\\site-packages\\numpy\\.libs;f:\\python\\lib\\site-packages\\scipy\\extra-dll\n"
     ]
    }
   ],
   "source": [
    "import os\n",
    "print(os.environ['PATH'])"
   ]
  },
  {
   "cell_type": "code",
   "execution_count": 17,
   "metadata": {
    "ExecuteTime": {
     "end_time": "2019-09-16T08:02:27.727542Z",
     "start_time": "2019-09-16T08:02:27.662141Z"
    }
   },
   "outputs": [],
   "source": [
    "# 可视化\n",
    "from sklearn.tree import export_graphviz\n",
    "import graphviz\n",
    "\n",
    "# 输入参数\n",
    "with open ('Digits.dot', 'w') as dot_data:\n",
    "    dot_data= export_graphviz(clf, out_file=None)"
   ]
  },
  {
   "cell_type": "code",
   "execution_count": null,
   "metadata": {},
   "outputs": [],
   "source": []
  }
 ],
 "metadata": {
  "kernelspec": {
   "display_name": "Python 3",
   "language": "python",
   "name": "python3"
  },
  "language_info": {
   "codemirror_mode": {
    "name": "ipython",
    "version": 3
   },
   "file_extension": ".py",
   "mimetype": "text/x-python",
   "name": "python",
   "nbconvert_exporter": "python",
   "pygments_lexer": "ipython3",
   "version": "3.7.3"
  },
  "toc": {
   "base_numbering": 1,
   "nav_menu": {},
   "number_sections": true,
   "sideBar": true,
   "skip_h1_title": false,
   "title_cell": "Table of Contents",
   "title_sidebar": "Contents",
   "toc_cell": false,
   "toc_position": {},
   "toc_section_display": true,
   "toc_window_display": false
  },
  "varInspector": {
   "cols": {
    "lenName": 16,
    "lenType": 16,
    "lenVar": 40
   },
   "kernels_config": {
    "python": {
     "delete_cmd_postfix": "",
     "delete_cmd_prefix": "del ",
     "library": "var_list.py",
     "varRefreshCmd": "print(var_dic_list())"
    },
    "r": {
     "delete_cmd_postfix": ") ",
     "delete_cmd_prefix": "rm(",
     "library": "var_list.r",
     "varRefreshCmd": "cat(var_dic_list()) "
    }
   },
   "types_to_exclude": [
    "module",
    "function",
    "builtin_function_or_method",
    "instance",
    "_Feature"
   ],
   "window_display": false
  }
 },
 "nbformat": 4,
 "nbformat_minor": 2
}
